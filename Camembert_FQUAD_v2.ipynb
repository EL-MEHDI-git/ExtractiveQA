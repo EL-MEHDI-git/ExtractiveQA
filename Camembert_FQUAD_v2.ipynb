{
  "nbformat": 4,
  "nbformat_minor": 0,
  "metadata": {
    "colab": {
      "name": "Camembert_FQUAD v2.ipynb",
      "provenance": [],
      "collapsed_sections": []
    },
    "kernelspec": {
      "name": "python3",
      "display_name": "Python 3"
    },
    "language_info": {
      "name": "python"
    },
    "accelerator": "GPU",
    "gpuClass": "standard",
    "widgets": {
      "application/vnd.jupyter.widget-state+json": {
        "1d6269f35ca4477697888609eb8276aa": {
          "model_module": "@jupyter-widgets/controls",
          "model_name": "HBoxModel",
          "model_module_version": "1.5.0",
          "state": {
            "_dom_classes": [],
            "_model_module": "@jupyter-widgets/controls",
            "_model_module_version": "1.5.0",
            "_model_name": "HBoxModel",
            "_view_count": null,
            "_view_module": "@jupyter-widgets/controls",
            "_view_module_version": "1.5.0",
            "_view_name": "HBoxView",
            "box_style": "",
            "children": [
              "IPY_MODEL_489160b3d70540729a91ad230a1c3339",
              "IPY_MODEL_8e5ea57535484e84bc5f8979dee0c8b2",
              "IPY_MODEL_d7adb373b4e34232a2d6c736c6c5c8be"
            ],
            "layout": "IPY_MODEL_50f41898873c40348792cc10f2cedd49"
          }
        },
        "489160b3d70540729a91ad230a1c3339": {
          "model_module": "@jupyter-widgets/controls",
          "model_name": "HTMLModel",
          "model_module_version": "1.5.0",
          "state": {
            "_dom_classes": [],
            "_model_module": "@jupyter-widgets/controls",
            "_model_module_version": "1.5.0",
            "_model_name": "HTMLModel",
            "_view_count": null,
            "_view_module": "@jupyter-widgets/controls",
            "_view_module_version": "1.5.0",
            "_view_name": "HTMLView",
            "description": "",
            "description_tooltip": null,
            "layout": "IPY_MODEL_aef710f11cfd4f51919b76b54a8130cd",
            "placeholder": "​",
            "style": "IPY_MODEL_0c8004668f88461d963fc1d24c169b08",
            "value": "Downloading: 100%"
          }
        },
        "8e5ea57535484e84bc5f8979dee0c8b2": {
          "model_module": "@jupyter-widgets/controls",
          "model_name": "FloatProgressModel",
          "model_module_version": "1.5.0",
          "state": {
            "_dom_classes": [],
            "_model_module": "@jupyter-widgets/controls",
            "_model_module_version": "1.5.0",
            "_model_name": "FloatProgressModel",
            "_view_count": null,
            "_view_module": "@jupyter-widgets/controls",
            "_view_module_version": "1.5.0",
            "_view_name": "ProgressView",
            "bar_style": "success",
            "description": "",
            "description_tooltip": null,
            "layout": "IPY_MODEL_f10627e0c20b4ee2bc1a052b41ba561e",
            "max": 810912,
            "min": 0,
            "orientation": "horizontal",
            "style": "IPY_MODEL_6f6bf35cc49745c29492d6b54b25fc3a",
            "value": 810912
          }
        },
        "d7adb373b4e34232a2d6c736c6c5c8be": {
          "model_module": "@jupyter-widgets/controls",
          "model_name": "HTMLModel",
          "model_module_version": "1.5.0",
          "state": {
            "_dom_classes": [],
            "_model_module": "@jupyter-widgets/controls",
            "_model_module_version": "1.5.0",
            "_model_name": "HTMLModel",
            "_view_count": null,
            "_view_module": "@jupyter-widgets/controls",
            "_view_module_version": "1.5.0",
            "_view_name": "HTMLView",
            "description": "",
            "description_tooltip": null,
            "layout": "IPY_MODEL_eb7d0b5ada1e491ea05714f75f068785",
            "placeholder": "​",
            "style": "IPY_MODEL_119b5037585447d691c05cc438d10e64",
            "value": " 792k/792k [00:00&lt;00:00, 618kB/s]"
          }
        },
        "50f41898873c40348792cc10f2cedd49": {
          "model_module": "@jupyter-widgets/base",
          "model_name": "LayoutModel",
          "model_module_version": "1.2.0",
          "state": {
            "_model_module": "@jupyter-widgets/base",
            "_model_module_version": "1.2.0",
            "_model_name": "LayoutModel",
            "_view_count": null,
            "_view_module": "@jupyter-widgets/base",
            "_view_module_version": "1.2.0",
            "_view_name": "LayoutView",
            "align_content": null,
            "align_items": null,
            "align_self": null,
            "border": null,
            "bottom": null,
            "display": null,
            "flex": null,
            "flex_flow": null,
            "grid_area": null,
            "grid_auto_columns": null,
            "grid_auto_flow": null,
            "grid_auto_rows": null,
            "grid_column": null,
            "grid_gap": null,
            "grid_row": null,
            "grid_template_areas": null,
            "grid_template_columns": null,
            "grid_template_rows": null,
            "height": null,
            "justify_content": null,
            "justify_items": null,
            "left": null,
            "margin": null,
            "max_height": null,
            "max_width": null,
            "min_height": null,
            "min_width": null,
            "object_fit": null,
            "object_position": null,
            "order": null,
            "overflow": null,
            "overflow_x": null,
            "overflow_y": null,
            "padding": null,
            "right": null,
            "top": null,
            "visibility": null,
            "width": null
          }
        },
        "aef710f11cfd4f51919b76b54a8130cd": {
          "model_module": "@jupyter-widgets/base",
          "model_name": "LayoutModel",
          "model_module_version": "1.2.0",
          "state": {
            "_model_module": "@jupyter-widgets/base",
            "_model_module_version": "1.2.0",
            "_model_name": "LayoutModel",
            "_view_count": null,
            "_view_module": "@jupyter-widgets/base",
            "_view_module_version": "1.2.0",
            "_view_name": "LayoutView",
            "align_content": null,
            "align_items": null,
            "align_self": null,
            "border": null,
            "bottom": null,
            "display": null,
            "flex": null,
            "flex_flow": null,
            "grid_area": null,
            "grid_auto_columns": null,
            "grid_auto_flow": null,
            "grid_auto_rows": null,
            "grid_column": null,
            "grid_gap": null,
            "grid_row": null,
            "grid_template_areas": null,
            "grid_template_columns": null,
            "grid_template_rows": null,
            "height": null,
            "justify_content": null,
            "justify_items": null,
            "left": null,
            "margin": null,
            "max_height": null,
            "max_width": null,
            "min_height": null,
            "min_width": null,
            "object_fit": null,
            "object_position": null,
            "order": null,
            "overflow": null,
            "overflow_x": null,
            "overflow_y": null,
            "padding": null,
            "right": null,
            "top": null,
            "visibility": null,
            "width": null
          }
        },
        "0c8004668f88461d963fc1d24c169b08": {
          "model_module": "@jupyter-widgets/controls",
          "model_name": "DescriptionStyleModel",
          "model_module_version": "1.5.0",
          "state": {
            "_model_module": "@jupyter-widgets/controls",
            "_model_module_version": "1.5.0",
            "_model_name": "DescriptionStyleModel",
            "_view_count": null,
            "_view_module": "@jupyter-widgets/base",
            "_view_module_version": "1.2.0",
            "_view_name": "StyleView",
            "description_width": ""
          }
        },
        "f10627e0c20b4ee2bc1a052b41ba561e": {
          "model_module": "@jupyter-widgets/base",
          "model_name": "LayoutModel",
          "model_module_version": "1.2.0",
          "state": {
            "_model_module": "@jupyter-widgets/base",
            "_model_module_version": "1.2.0",
            "_model_name": "LayoutModel",
            "_view_count": null,
            "_view_module": "@jupyter-widgets/base",
            "_view_module_version": "1.2.0",
            "_view_name": "LayoutView",
            "align_content": null,
            "align_items": null,
            "align_self": null,
            "border": null,
            "bottom": null,
            "display": null,
            "flex": null,
            "flex_flow": null,
            "grid_area": null,
            "grid_auto_columns": null,
            "grid_auto_flow": null,
            "grid_auto_rows": null,
            "grid_column": null,
            "grid_gap": null,
            "grid_row": null,
            "grid_template_areas": null,
            "grid_template_columns": null,
            "grid_template_rows": null,
            "height": null,
            "justify_content": null,
            "justify_items": null,
            "left": null,
            "margin": null,
            "max_height": null,
            "max_width": null,
            "min_height": null,
            "min_width": null,
            "object_fit": null,
            "object_position": null,
            "order": null,
            "overflow": null,
            "overflow_x": null,
            "overflow_y": null,
            "padding": null,
            "right": null,
            "top": null,
            "visibility": null,
            "width": null
          }
        },
        "6f6bf35cc49745c29492d6b54b25fc3a": {
          "model_module": "@jupyter-widgets/controls",
          "model_name": "ProgressStyleModel",
          "model_module_version": "1.5.0",
          "state": {
            "_model_module": "@jupyter-widgets/controls",
            "_model_module_version": "1.5.0",
            "_model_name": "ProgressStyleModel",
            "_view_count": null,
            "_view_module": "@jupyter-widgets/base",
            "_view_module_version": "1.2.0",
            "_view_name": "StyleView",
            "bar_color": null,
            "description_width": ""
          }
        },
        "eb7d0b5ada1e491ea05714f75f068785": {
          "model_module": "@jupyter-widgets/base",
          "model_name": "LayoutModel",
          "model_module_version": "1.2.0",
          "state": {
            "_model_module": "@jupyter-widgets/base",
            "_model_module_version": "1.2.0",
            "_model_name": "LayoutModel",
            "_view_count": null,
            "_view_module": "@jupyter-widgets/base",
            "_view_module_version": "1.2.0",
            "_view_name": "LayoutView",
            "align_content": null,
            "align_items": null,
            "align_self": null,
            "border": null,
            "bottom": null,
            "display": null,
            "flex": null,
            "flex_flow": null,
            "grid_area": null,
            "grid_auto_columns": null,
            "grid_auto_flow": null,
            "grid_auto_rows": null,
            "grid_column": null,
            "grid_gap": null,
            "grid_row": null,
            "grid_template_areas": null,
            "grid_template_columns": null,
            "grid_template_rows": null,
            "height": null,
            "justify_content": null,
            "justify_items": null,
            "left": null,
            "margin": null,
            "max_height": null,
            "max_width": null,
            "min_height": null,
            "min_width": null,
            "object_fit": null,
            "object_position": null,
            "order": null,
            "overflow": null,
            "overflow_x": null,
            "overflow_y": null,
            "padding": null,
            "right": null,
            "top": null,
            "visibility": null,
            "width": null
          }
        },
        "119b5037585447d691c05cc438d10e64": {
          "model_module": "@jupyter-widgets/controls",
          "model_name": "DescriptionStyleModel",
          "model_module_version": "1.5.0",
          "state": {
            "_model_module": "@jupyter-widgets/controls",
            "_model_module_version": "1.5.0",
            "_model_name": "DescriptionStyleModel",
            "_view_count": null,
            "_view_module": "@jupyter-widgets/base",
            "_view_module_version": "1.2.0",
            "_view_name": "StyleView",
            "description_width": ""
          }
        },
        "ecd6848a84ee4923abf3d81038d2c1da": {
          "model_module": "@jupyter-widgets/controls",
          "model_name": "HBoxModel",
          "model_module_version": "1.5.0",
          "state": {
            "_dom_classes": [],
            "_model_module": "@jupyter-widgets/controls",
            "_model_module_version": "1.5.0",
            "_model_name": "HBoxModel",
            "_view_count": null,
            "_view_module": "@jupyter-widgets/controls",
            "_view_module_version": "1.5.0",
            "_view_name": "HBoxView",
            "box_style": "",
            "children": [
              "IPY_MODEL_0da4395514d24ae58ac5a9bdfe68f772",
              "IPY_MODEL_307a003d1eca4b73878c43a6736b4513",
              "IPY_MODEL_3922675681fb47e4b62384f3075f3667"
            ],
            "layout": "IPY_MODEL_abbff6706a1b46d2bc4eb123912adb7a"
          }
        },
        "0da4395514d24ae58ac5a9bdfe68f772": {
          "model_module": "@jupyter-widgets/controls",
          "model_name": "HTMLModel",
          "model_module_version": "1.5.0",
          "state": {
            "_dom_classes": [],
            "_model_module": "@jupyter-widgets/controls",
            "_model_module_version": "1.5.0",
            "_model_name": "HTMLModel",
            "_view_count": null,
            "_view_module": "@jupyter-widgets/controls",
            "_view_module_version": "1.5.0",
            "_view_name": "HTMLView",
            "description": "",
            "description_tooltip": null,
            "layout": "IPY_MODEL_7f4038e31812429c8b84fb36af3f1351",
            "placeholder": "​",
            "style": "IPY_MODEL_f6ec4bd217c84a3c96b9f37995539ed7",
            "value": "Downloading: 100%"
          }
        },
        "307a003d1eca4b73878c43a6736b4513": {
          "model_module": "@jupyter-widgets/controls",
          "model_name": "FloatProgressModel",
          "model_module_version": "1.5.0",
          "state": {
            "_dom_classes": [],
            "_model_module": "@jupyter-widgets/controls",
            "_model_module_version": "1.5.0",
            "_model_name": "FloatProgressModel",
            "_view_count": null,
            "_view_module": "@jupyter-widgets/controls",
            "_view_module_version": "1.5.0",
            "_view_name": "ProgressView",
            "bar_style": "success",
            "description": "",
            "description_tooltip": null,
            "layout": "IPY_MODEL_b160cf3c7281484f8d849e1efdf12e99",
            "max": 1395301,
            "min": 0,
            "orientation": "horizontal",
            "style": "IPY_MODEL_a6e5d77ebe8f4f0590acb66f4a2898a5",
            "value": 1395301
          }
        },
        "3922675681fb47e4b62384f3075f3667": {
          "model_module": "@jupyter-widgets/controls",
          "model_name": "HTMLModel",
          "model_module_version": "1.5.0",
          "state": {
            "_dom_classes": [],
            "_model_module": "@jupyter-widgets/controls",
            "_model_module_version": "1.5.0",
            "_model_name": "HTMLModel",
            "_view_count": null,
            "_view_module": "@jupyter-widgets/controls",
            "_view_module_version": "1.5.0",
            "_view_name": "HTMLView",
            "description": "",
            "description_tooltip": null,
            "layout": "IPY_MODEL_12a0946f2f7f4745a7d9cb2282177c38",
            "placeholder": "​",
            "style": "IPY_MODEL_b14a0ed5d08740829b81c568664d7118",
            "value": " 1.33M/1.33M [00:01&lt;00:00, 1.50MB/s]"
          }
        },
        "abbff6706a1b46d2bc4eb123912adb7a": {
          "model_module": "@jupyter-widgets/base",
          "model_name": "LayoutModel",
          "model_module_version": "1.2.0",
          "state": {
            "_model_module": "@jupyter-widgets/base",
            "_model_module_version": "1.2.0",
            "_model_name": "LayoutModel",
            "_view_count": null,
            "_view_module": "@jupyter-widgets/base",
            "_view_module_version": "1.2.0",
            "_view_name": "LayoutView",
            "align_content": null,
            "align_items": null,
            "align_self": null,
            "border": null,
            "bottom": null,
            "display": null,
            "flex": null,
            "flex_flow": null,
            "grid_area": null,
            "grid_auto_columns": null,
            "grid_auto_flow": null,
            "grid_auto_rows": null,
            "grid_column": null,
            "grid_gap": null,
            "grid_row": null,
            "grid_template_areas": null,
            "grid_template_columns": null,
            "grid_template_rows": null,
            "height": null,
            "justify_content": null,
            "justify_items": null,
            "left": null,
            "margin": null,
            "max_height": null,
            "max_width": null,
            "min_height": null,
            "min_width": null,
            "object_fit": null,
            "object_position": null,
            "order": null,
            "overflow": null,
            "overflow_x": null,
            "overflow_y": null,
            "padding": null,
            "right": null,
            "top": null,
            "visibility": null,
            "width": null
          }
        },
        "7f4038e31812429c8b84fb36af3f1351": {
          "model_module": "@jupyter-widgets/base",
          "model_name": "LayoutModel",
          "model_module_version": "1.2.0",
          "state": {
            "_model_module": "@jupyter-widgets/base",
            "_model_module_version": "1.2.0",
            "_model_name": "LayoutModel",
            "_view_count": null,
            "_view_module": "@jupyter-widgets/base",
            "_view_module_version": "1.2.0",
            "_view_name": "LayoutView",
            "align_content": null,
            "align_items": null,
            "align_self": null,
            "border": null,
            "bottom": null,
            "display": null,
            "flex": null,
            "flex_flow": null,
            "grid_area": null,
            "grid_auto_columns": null,
            "grid_auto_flow": null,
            "grid_auto_rows": null,
            "grid_column": null,
            "grid_gap": null,
            "grid_row": null,
            "grid_template_areas": null,
            "grid_template_columns": null,
            "grid_template_rows": null,
            "height": null,
            "justify_content": null,
            "justify_items": null,
            "left": null,
            "margin": null,
            "max_height": null,
            "max_width": null,
            "min_height": null,
            "min_width": null,
            "object_fit": null,
            "object_position": null,
            "order": null,
            "overflow": null,
            "overflow_x": null,
            "overflow_y": null,
            "padding": null,
            "right": null,
            "top": null,
            "visibility": null,
            "width": null
          }
        },
        "f6ec4bd217c84a3c96b9f37995539ed7": {
          "model_module": "@jupyter-widgets/controls",
          "model_name": "DescriptionStyleModel",
          "model_module_version": "1.5.0",
          "state": {
            "_model_module": "@jupyter-widgets/controls",
            "_model_module_version": "1.5.0",
            "_model_name": "DescriptionStyleModel",
            "_view_count": null,
            "_view_module": "@jupyter-widgets/base",
            "_view_module_version": "1.2.0",
            "_view_name": "StyleView",
            "description_width": ""
          }
        },
        "b160cf3c7281484f8d849e1efdf12e99": {
          "model_module": "@jupyter-widgets/base",
          "model_name": "LayoutModel",
          "model_module_version": "1.2.0",
          "state": {
            "_model_module": "@jupyter-widgets/base",
            "_model_module_version": "1.2.0",
            "_model_name": "LayoutModel",
            "_view_count": null,
            "_view_module": "@jupyter-widgets/base",
            "_view_module_version": "1.2.0",
            "_view_name": "LayoutView",
            "align_content": null,
            "align_items": null,
            "align_self": null,
            "border": null,
            "bottom": null,
            "display": null,
            "flex": null,
            "flex_flow": null,
            "grid_area": null,
            "grid_auto_columns": null,
            "grid_auto_flow": null,
            "grid_auto_rows": null,
            "grid_column": null,
            "grid_gap": null,
            "grid_row": null,
            "grid_template_areas": null,
            "grid_template_columns": null,
            "grid_template_rows": null,
            "height": null,
            "justify_content": null,
            "justify_items": null,
            "left": null,
            "margin": null,
            "max_height": null,
            "max_width": null,
            "min_height": null,
            "min_width": null,
            "object_fit": null,
            "object_position": null,
            "order": null,
            "overflow": null,
            "overflow_x": null,
            "overflow_y": null,
            "padding": null,
            "right": null,
            "top": null,
            "visibility": null,
            "width": null
          }
        },
        "a6e5d77ebe8f4f0590acb66f4a2898a5": {
          "model_module": "@jupyter-widgets/controls",
          "model_name": "ProgressStyleModel",
          "model_module_version": "1.5.0",
          "state": {
            "_model_module": "@jupyter-widgets/controls",
            "_model_module_version": "1.5.0",
            "_model_name": "ProgressStyleModel",
            "_view_count": null,
            "_view_module": "@jupyter-widgets/base",
            "_view_module_version": "1.2.0",
            "_view_name": "StyleView",
            "bar_color": null,
            "description_width": ""
          }
        },
        "12a0946f2f7f4745a7d9cb2282177c38": {
          "model_module": "@jupyter-widgets/base",
          "model_name": "LayoutModel",
          "model_module_version": "1.2.0",
          "state": {
            "_model_module": "@jupyter-widgets/base",
            "_model_module_version": "1.2.0",
            "_model_name": "LayoutModel",
            "_view_count": null,
            "_view_module": "@jupyter-widgets/base",
            "_view_module_version": "1.2.0",
            "_view_name": "LayoutView",
            "align_content": null,
            "align_items": null,
            "align_self": null,
            "border": null,
            "bottom": null,
            "display": null,
            "flex": null,
            "flex_flow": null,
            "grid_area": null,
            "grid_auto_columns": null,
            "grid_auto_flow": null,
            "grid_auto_rows": null,
            "grid_column": null,
            "grid_gap": null,
            "grid_row": null,
            "grid_template_areas": null,
            "grid_template_columns": null,
            "grid_template_rows": null,
            "height": null,
            "justify_content": null,
            "justify_items": null,
            "left": null,
            "margin": null,
            "max_height": null,
            "max_width": null,
            "min_height": null,
            "min_width": null,
            "object_fit": null,
            "object_position": null,
            "order": null,
            "overflow": null,
            "overflow_x": null,
            "overflow_y": null,
            "padding": null,
            "right": null,
            "top": null,
            "visibility": null,
            "width": null
          }
        },
        "b14a0ed5d08740829b81c568664d7118": {
          "model_module": "@jupyter-widgets/controls",
          "model_name": "DescriptionStyleModel",
          "model_module_version": "1.5.0",
          "state": {
            "_model_module": "@jupyter-widgets/controls",
            "_model_module_version": "1.5.0",
            "_model_name": "DescriptionStyleModel",
            "_view_count": null,
            "_view_module": "@jupyter-widgets/base",
            "_view_module_version": "1.2.0",
            "_view_name": "StyleView",
            "description_width": ""
          }
        },
        "301477b027ee46d9bcc2b381ef145e90": {
          "model_module": "@jupyter-widgets/controls",
          "model_name": "HBoxModel",
          "model_module_version": "1.5.0",
          "state": {
            "_dom_classes": [],
            "_model_module": "@jupyter-widgets/controls",
            "_model_module_version": "1.5.0",
            "_model_name": "HBoxModel",
            "_view_count": null,
            "_view_module": "@jupyter-widgets/controls",
            "_view_module_version": "1.5.0",
            "_view_name": "HBoxView",
            "box_style": "",
            "children": [
              "IPY_MODEL_97247b20ce14468e889268617e9daba1",
              "IPY_MODEL_2594fa69286c446f9cac62fce3b63e9c",
              "IPY_MODEL_97ed017be7974493a6f2fbdaad0b3021"
            ],
            "layout": "IPY_MODEL_d59cf0300f5240d5b7e289b0f16ff9fe"
          }
        },
        "97247b20ce14468e889268617e9daba1": {
          "model_module": "@jupyter-widgets/controls",
          "model_name": "HTMLModel",
          "model_module_version": "1.5.0",
          "state": {
            "_dom_classes": [],
            "_model_module": "@jupyter-widgets/controls",
            "_model_module_version": "1.5.0",
            "_model_name": "HTMLModel",
            "_view_count": null,
            "_view_module": "@jupyter-widgets/controls",
            "_view_module_version": "1.5.0",
            "_view_name": "HTMLView",
            "description": "",
            "description_tooltip": null,
            "layout": "IPY_MODEL_fdb03b6c30a6433fbbf73b5f373e9caa",
            "placeholder": "​",
            "style": "IPY_MODEL_2352bad80e6d442ab13a7c13cf27720c",
            "value": "Downloading: 100%"
          }
        },
        "2594fa69286c446f9cac62fce3b63e9c": {
          "model_module": "@jupyter-widgets/controls",
          "model_name": "FloatProgressModel",
          "model_module_version": "1.5.0",
          "state": {
            "_dom_classes": [],
            "_model_module": "@jupyter-widgets/controls",
            "_model_module_version": "1.5.0",
            "_model_name": "FloatProgressModel",
            "_view_count": null,
            "_view_module": "@jupyter-widgets/controls",
            "_view_module_version": "1.5.0",
            "_view_name": "ProgressView",
            "bar_style": "success",
            "description": "",
            "description_tooltip": null,
            "layout": "IPY_MODEL_6ed074052c914f1b89be849c14f59255",
            "max": 508,
            "min": 0,
            "orientation": "horizontal",
            "style": "IPY_MODEL_558d219a8abc47f18d00e27755a6c1e3",
            "value": 508
          }
        },
        "97ed017be7974493a6f2fbdaad0b3021": {
          "model_module": "@jupyter-widgets/controls",
          "model_name": "HTMLModel",
          "model_module_version": "1.5.0",
          "state": {
            "_dom_classes": [],
            "_model_module": "@jupyter-widgets/controls",
            "_model_module_version": "1.5.0",
            "_model_name": "HTMLModel",
            "_view_count": null,
            "_view_module": "@jupyter-widgets/controls",
            "_view_module_version": "1.5.0",
            "_view_name": "HTMLView",
            "description": "",
            "description_tooltip": null,
            "layout": "IPY_MODEL_e112be4600434484ae97997d4e3df8fb",
            "placeholder": "​",
            "style": "IPY_MODEL_1d068b3c4fdf4d8fa37cdb0856ac5bab",
            "value": " 508/508 [00:00&lt;00:00, 13.9kB/s]"
          }
        },
        "d59cf0300f5240d5b7e289b0f16ff9fe": {
          "model_module": "@jupyter-widgets/base",
          "model_name": "LayoutModel",
          "model_module_version": "1.2.0",
          "state": {
            "_model_module": "@jupyter-widgets/base",
            "_model_module_version": "1.2.0",
            "_model_name": "LayoutModel",
            "_view_count": null,
            "_view_module": "@jupyter-widgets/base",
            "_view_module_version": "1.2.0",
            "_view_name": "LayoutView",
            "align_content": null,
            "align_items": null,
            "align_self": null,
            "border": null,
            "bottom": null,
            "display": null,
            "flex": null,
            "flex_flow": null,
            "grid_area": null,
            "grid_auto_columns": null,
            "grid_auto_flow": null,
            "grid_auto_rows": null,
            "grid_column": null,
            "grid_gap": null,
            "grid_row": null,
            "grid_template_areas": null,
            "grid_template_columns": null,
            "grid_template_rows": null,
            "height": null,
            "justify_content": null,
            "justify_items": null,
            "left": null,
            "margin": null,
            "max_height": null,
            "max_width": null,
            "min_height": null,
            "min_width": null,
            "object_fit": null,
            "object_position": null,
            "order": null,
            "overflow": null,
            "overflow_x": null,
            "overflow_y": null,
            "padding": null,
            "right": null,
            "top": null,
            "visibility": null,
            "width": null
          }
        },
        "fdb03b6c30a6433fbbf73b5f373e9caa": {
          "model_module": "@jupyter-widgets/base",
          "model_name": "LayoutModel",
          "model_module_version": "1.2.0",
          "state": {
            "_model_module": "@jupyter-widgets/base",
            "_model_module_version": "1.2.0",
            "_model_name": "LayoutModel",
            "_view_count": null,
            "_view_module": "@jupyter-widgets/base",
            "_view_module_version": "1.2.0",
            "_view_name": "LayoutView",
            "align_content": null,
            "align_items": null,
            "align_self": null,
            "border": null,
            "bottom": null,
            "display": null,
            "flex": null,
            "flex_flow": null,
            "grid_area": null,
            "grid_auto_columns": null,
            "grid_auto_flow": null,
            "grid_auto_rows": null,
            "grid_column": null,
            "grid_gap": null,
            "grid_row": null,
            "grid_template_areas": null,
            "grid_template_columns": null,
            "grid_template_rows": null,
            "height": null,
            "justify_content": null,
            "justify_items": null,
            "left": null,
            "margin": null,
            "max_height": null,
            "max_width": null,
            "min_height": null,
            "min_width": null,
            "object_fit": null,
            "object_position": null,
            "order": null,
            "overflow": null,
            "overflow_x": null,
            "overflow_y": null,
            "padding": null,
            "right": null,
            "top": null,
            "visibility": null,
            "width": null
          }
        },
        "2352bad80e6d442ab13a7c13cf27720c": {
          "model_module": "@jupyter-widgets/controls",
          "model_name": "DescriptionStyleModel",
          "model_module_version": "1.5.0",
          "state": {
            "_model_module": "@jupyter-widgets/controls",
            "_model_module_version": "1.5.0",
            "_model_name": "DescriptionStyleModel",
            "_view_count": null,
            "_view_module": "@jupyter-widgets/base",
            "_view_module_version": "1.2.0",
            "_view_name": "StyleView",
            "description_width": ""
          }
        },
        "6ed074052c914f1b89be849c14f59255": {
          "model_module": "@jupyter-widgets/base",
          "model_name": "LayoutModel",
          "model_module_version": "1.2.0",
          "state": {
            "_model_module": "@jupyter-widgets/base",
            "_model_module_version": "1.2.0",
            "_model_name": "LayoutModel",
            "_view_count": null,
            "_view_module": "@jupyter-widgets/base",
            "_view_module_version": "1.2.0",
            "_view_name": "LayoutView",
            "align_content": null,
            "align_items": null,
            "align_self": null,
            "border": null,
            "bottom": null,
            "display": null,
            "flex": null,
            "flex_flow": null,
            "grid_area": null,
            "grid_auto_columns": null,
            "grid_auto_flow": null,
            "grid_auto_rows": null,
            "grid_column": null,
            "grid_gap": null,
            "grid_row": null,
            "grid_template_areas": null,
            "grid_template_columns": null,
            "grid_template_rows": null,
            "height": null,
            "justify_content": null,
            "justify_items": null,
            "left": null,
            "margin": null,
            "max_height": null,
            "max_width": null,
            "min_height": null,
            "min_width": null,
            "object_fit": null,
            "object_position": null,
            "order": null,
            "overflow": null,
            "overflow_x": null,
            "overflow_y": null,
            "padding": null,
            "right": null,
            "top": null,
            "visibility": null,
            "width": null
          }
        },
        "558d219a8abc47f18d00e27755a6c1e3": {
          "model_module": "@jupyter-widgets/controls",
          "model_name": "ProgressStyleModel",
          "model_module_version": "1.5.0",
          "state": {
            "_model_module": "@jupyter-widgets/controls",
            "_model_module_version": "1.5.0",
            "_model_name": "ProgressStyleModel",
            "_view_count": null,
            "_view_module": "@jupyter-widgets/base",
            "_view_module_version": "1.2.0",
            "_view_name": "StyleView",
            "bar_color": null,
            "description_width": ""
          }
        },
        "e112be4600434484ae97997d4e3df8fb": {
          "model_module": "@jupyter-widgets/base",
          "model_name": "LayoutModel",
          "model_module_version": "1.2.0",
          "state": {
            "_model_module": "@jupyter-widgets/base",
            "_model_module_version": "1.2.0",
            "_model_name": "LayoutModel",
            "_view_count": null,
            "_view_module": "@jupyter-widgets/base",
            "_view_module_version": "1.2.0",
            "_view_name": "LayoutView",
            "align_content": null,
            "align_items": null,
            "align_self": null,
            "border": null,
            "bottom": null,
            "display": null,
            "flex": null,
            "flex_flow": null,
            "grid_area": null,
            "grid_auto_columns": null,
            "grid_auto_flow": null,
            "grid_auto_rows": null,
            "grid_column": null,
            "grid_gap": null,
            "grid_row": null,
            "grid_template_areas": null,
            "grid_template_columns": null,
            "grid_template_rows": null,
            "height": null,
            "justify_content": null,
            "justify_items": null,
            "left": null,
            "margin": null,
            "max_height": null,
            "max_width": null,
            "min_height": null,
            "min_width": null,
            "object_fit": null,
            "object_position": null,
            "order": null,
            "overflow": null,
            "overflow_x": null,
            "overflow_y": null,
            "padding": null,
            "right": null,
            "top": null,
            "visibility": null,
            "width": null
          }
        },
        "1d068b3c4fdf4d8fa37cdb0856ac5bab": {
          "model_module": "@jupyter-widgets/controls",
          "model_name": "DescriptionStyleModel",
          "model_module_version": "1.5.0",
          "state": {
            "_model_module": "@jupyter-widgets/controls",
            "_model_module_version": "1.5.0",
            "_model_name": "DescriptionStyleModel",
            "_view_count": null,
            "_view_module": "@jupyter-widgets/base",
            "_view_module_version": "1.2.0",
            "_view_name": "StyleView",
            "description_width": ""
          }
        },
        "f6d932793bcb47d69e45c05fdd006d76": {
          "model_module": "@jupyter-widgets/controls",
          "model_name": "HBoxModel",
          "model_module_version": "1.5.0",
          "state": {
            "_dom_classes": [],
            "_model_module": "@jupyter-widgets/controls",
            "_model_module_version": "1.5.0",
            "_model_name": "HBoxModel",
            "_view_count": null,
            "_view_module": "@jupyter-widgets/controls",
            "_view_module_version": "1.5.0",
            "_view_name": "HBoxView",
            "box_style": "",
            "children": [
              "IPY_MODEL_3d2693b1a3224666992e3cc65b038223",
              "IPY_MODEL_6108b8f5842244139a236046133b3442",
              "IPY_MODEL_38aec1cc0de34c34a0bb8b100991dc02"
            ],
            "layout": "IPY_MODEL_8dc92ac835794b199af3f6c24b38e931"
          }
        },
        "3d2693b1a3224666992e3cc65b038223": {
          "model_module": "@jupyter-widgets/controls",
          "model_name": "HTMLModel",
          "model_module_version": "1.5.0",
          "state": {
            "_dom_classes": [],
            "_model_module": "@jupyter-widgets/controls",
            "_model_module_version": "1.5.0",
            "_model_name": "HTMLModel",
            "_view_count": null,
            "_view_module": "@jupyter-widgets/controls",
            "_view_module_version": "1.5.0",
            "_view_name": "HTMLView",
            "description": "",
            "description_tooltip": null,
            "layout": "IPY_MODEL_d62b21495cbb400d84805e200fa037f0",
            "placeholder": "​",
            "style": "IPY_MODEL_e0812d38ca644679b5163231b2b4e9b5",
            "value": "Downloading: 100%"
          }
        },
        "6108b8f5842244139a236046133b3442": {
          "model_module": "@jupyter-widgets/controls",
          "model_name": "FloatProgressModel",
          "model_module_version": "1.5.0",
          "state": {
            "_dom_classes": [],
            "_model_module": "@jupyter-widgets/controls",
            "_model_module_version": "1.5.0",
            "_model_name": "FloatProgressModel",
            "_view_count": null,
            "_view_module": "@jupyter-widgets/controls",
            "_view_module_version": "1.5.0",
            "_view_name": "ProgressView",
            "bar_style": "success",
            "description": "",
            "description_tooltip": null,
            "layout": "IPY_MODEL_670da6de3294413989200d93d7bdb67b",
            "max": 445032417,
            "min": 0,
            "orientation": "horizontal",
            "style": "IPY_MODEL_436075a5b2094543bf25dfab47a4e627",
            "value": 445032417
          }
        },
        "38aec1cc0de34c34a0bb8b100991dc02": {
          "model_module": "@jupyter-widgets/controls",
          "model_name": "HTMLModel",
          "model_module_version": "1.5.0",
          "state": {
            "_dom_classes": [],
            "_model_module": "@jupyter-widgets/controls",
            "_model_module_version": "1.5.0",
            "_model_name": "HTMLModel",
            "_view_count": null,
            "_view_module": "@jupyter-widgets/controls",
            "_view_module_version": "1.5.0",
            "_view_name": "HTMLView",
            "description": "",
            "description_tooltip": null,
            "layout": "IPY_MODEL_977866469aa9400bbdd65d06a890cc07",
            "placeholder": "​",
            "style": "IPY_MODEL_5e700d32f5c24578ab0ea691412490e2",
            "value": " 424M/424M [00:07&lt;00:00, 58.4MB/s]"
          }
        },
        "8dc92ac835794b199af3f6c24b38e931": {
          "model_module": "@jupyter-widgets/base",
          "model_name": "LayoutModel",
          "model_module_version": "1.2.0",
          "state": {
            "_model_module": "@jupyter-widgets/base",
            "_model_module_version": "1.2.0",
            "_model_name": "LayoutModel",
            "_view_count": null,
            "_view_module": "@jupyter-widgets/base",
            "_view_module_version": "1.2.0",
            "_view_name": "LayoutView",
            "align_content": null,
            "align_items": null,
            "align_self": null,
            "border": null,
            "bottom": null,
            "display": null,
            "flex": null,
            "flex_flow": null,
            "grid_area": null,
            "grid_auto_columns": null,
            "grid_auto_flow": null,
            "grid_auto_rows": null,
            "grid_column": null,
            "grid_gap": null,
            "grid_row": null,
            "grid_template_areas": null,
            "grid_template_columns": null,
            "grid_template_rows": null,
            "height": null,
            "justify_content": null,
            "justify_items": null,
            "left": null,
            "margin": null,
            "max_height": null,
            "max_width": null,
            "min_height": null,
            "min_width": null,
            "object_fit": null,
            "object_position": null,
            "order": null,
            "overflow": null,
            "overflow_x": null,
            "overflow_y": null,
            "padding": null,
            "right": null,
            "top": null,
            "visibility": null,
            "width": null
          }
        },
        "d62b21495cbb400d84805e200fa037f0": {
          "model_module": "@jupyter-widgets/base",
          "model_name": "LayoutModel",
          "model_module_version": "1.2.0",
          "state": {
            "_model_module": "@jupyter-widgets/base",
            "_model_module_version": "1.2.0",
            "_model_name": "LayoutModel",
            "_view_count": null,
            "_view_module": "@jupyter-widgets/base",
            "_view_module_version": "1.2.0",
            "_view_name": "LayoutView",
            "align_content": null,
            "align_items": null,
            "align_self": null,
            "border": null,
            "bottom": null,
            "display": null,
            "flex": null,
            "flex_flow": null,
            "grid_area": null,
            "grid_auto_columns": null,
            "grid_auto_flow": null,
            "grid_auto_rows": null,
            "grid_column": null,
            "grid_gap": null,
            "grid_row": null,
            "grid_template_areas": null,
            "grid_template_columns": null,
            "grid_template_rows": null,
            "height": null,
            "justify_content": null,
            "justify_items": null,
            "left": null,
            "margin": null,
            "max_height": null,
            "max_width": null,
            "min_height": null,
            "min_width": null,
            "object_fit": null,
            "object_position": null,
            "order": null,
            "overflow": null,
            "overflow_x": null,
            "overflow_y": null,
            "padding": null,
            "right": null,
            "top": null,
            "visibility": null,
            "width": null
          }
        },
        "e0812d38ca644679b5163231b2b4e9b5": {
          "model_module": "@jupyter-widgets/controls",
          "model_name": "DescriptionStyleModel",
          "model_module_version": "1.5.0",
          "state": {
            "_model_module": "@jupyter-widgets/controls",
            "_model_module_version": "1.5.0",
            "_model_name": "DescriptionStyleModel",
            "_view_count": null,
            "_view_module": "@jupyter-widgets/base",
            "_view_module_version": "1.2.0",
            "_view_name": "StyleView",
            "description_width": ""
          }
        },
        "670da6de3294413989200d93d7bdb67b": {
          "model_module": "@jupyter-widgets/base",
          "model_name": "LayoutModel",
          "model_module_version": "1.2.0",
          "state": {
            "_model_module": "@jupyter-widgets/base",
            "_model_module_version": "1.2.0",
            "_model_name": "LayoutModel",
            "_view_count": null,
            "_view_module": "@jupyter-widgets/base",
            "_view_module_version": "1.2.0",
            "_view_name": "LayoutView",
            "align_content": null,
            "align_items": null,
            "align_self": null,
            "border": null,
            "bottom": null,
            "display": null,
            "flex": null,
            "flex_flow": null,
            "grid_area": null,
            "grid_auto_columns": null,
            "grid_auto_flow": null,
            "grid_auto_rows": null,
            "grid_column": null,
            "grid_gap": null,
            "grid_row": null,
            "grid_template_areas": null,
            "grid_template_columns": null,
            "grid_template_rows": null,
            "height": null,
            "justify_content": null,
            "justify_items": null,
            "left": null,
            "margin": null,
            "max_height": null,
            "max_width": null,
            "min_height": null,
            "min_width": null,
            "object_fit": null,
            "object_position": null,
            "order": null,
            "overflow": null,
            "overflow_x": null,
            "overflow_y": null,
            "padding": null,
            "right": null,
            "top": null,
            "visibility": null,
            "width": null
          }
        },
        "436075a5b2094543bf25dfab47a4e627": {
          "model_module": "@jupyter-widgets/controls",
          "model_name": "ProgressStyleModel",
          "model_module_version": "1.5.0",
          "state": {
            "_model_module": "@jupyter-widgets/controls",
            "_model_module_version": "1.5.0",
            "_model_name": "ProgressStyleModel",
            "_view_count": null,
            "_view_module": "@jupyter-widgets/base",
            "_view_module_version": "1.2.0",
            "_view_name": "StyleView",
            "bar_color": null,
            "description_width": ""
          }
        },
        "977866469aa9400bbdd65d06a890cc07": {
          "model_module": "@jupyter-widgets/base",
          "model_name": "LayoutModel",
          "model_module_version": "1.2.0",
          "state": {
            "_model_module": "@jupyter-widgets/base",
            "_model_module_version": "1.2.0",
            "_model_name": "LayoutModel",
            "_view_count": null,
            "_view_module": "@jupyter-widgets/base",
            "_view_module_version": "1.2.0",
            "_view_name": "LayoutView",
            "align_content": null,
            "align_items": null,
            "align_self": null,
            "border": null,
            "bottom": null,
            "display": null,
            "flex": null,
            "flex_flow": null,
            "grid_area": null,
            "grid_auto_columns": null,
            "grid_auto_flow": null,
            "grid_auto_rows": null,
            "grid_column": null,
            "grid_gap": null,
            "grid_row": null,
            "grid_template_areas": null,
            "grid_template_columns": null,
            "grid_template_rows": null,
            "height": null,
            "justify_content": null,
            "justify_items": null,
            "left": null,
            "margin": null,
            "max_height": null,
            "max_width": null,
            "min_height": null,
            "min_width": null,
            "object_fit": null,
            "object_position": null,
            "order": null,
            "overflow": null,
            "overflow_x": null,
            "overflow_y": null,
            "padding": null,
            "right": null,
            "top": null,
            "visibility": null,
            "width": null
          }
        },
        "5e700d32f5c24578ab0ea691412490e2": {
          "model_module": "@jupyter-widgets/controls",
          "model_name": "DescriptionStyleModel",
          "model_module_version": "1.5.0",
          "state": {
            "_model_module": "@jupyter-widgets/controls",
            "_model_module_version": "1.5.0",
            "_model_name": "DescriptionStyleModel",
            "_view_count": null,
            "_view_module": "@jupyter-widgets/base",
            "_view_module_version": "1.2.0",
            "_view_name": "StyleView",
            "description_width": ""
          }
        }
      }
    }
  },
  "cells": [
    {
      "cell_type": "code",
      "execution_count": null,
      "metadata": {
        "id": "6UDCCFwpeJ2_"
      },
      "outputs": [],
      "source": [
        "!pip install colorama -q\n",
        "!pip install transformers -q\n",
        "!pip install tokenizers -q\n",
        "!pip install SentencePiece -q"
      ]
    },
    {
      "cell_type": "code",
      "source": [
        "import json\n",
        "import os\n",
        "import re\n",
        "import sys\n",
        "\n",
        "import requests\n",
        "import string\n",
        "import numpy as np\n",
        "from colorama import Fore\n",
        "from tokenizers import BertWordPieceTokenizer\n",
        "from tqdm import tqdm\n",
        "from transformers import CamembertTokenizer, CamembertModel, BertModel, BertTokenizer\n",
        "import torch\n",
        "import torch.nn\n",
        "from torch.utils.data import TensorDataset, DataLoader, RandomSampler, SequentialSampler\n",
        "\n",
        "from transformers import CamembertTokenizer, CamembertTokenizerFast\n",
        "from transformers import CamembertModel\n",
        "\n",
        "from transformers import AdamW\n",
        "from tqdm import tqdm\n",
        "from statistics import mean\n"
      ],
      "metadata": {
        "id": "Ru1US8_DePFl"
      },
      "execution_count": null,
      "outputs": []
    },
    {
      "cell_type": "code",
      "source": [
        "from google.colab import drive\n",
        "drive.mount('/content/drive')"
      ],
      "metadata": {
        "colab": {
          "base_uri": "https://localhost:8080/"
        },
        "id": "m1H0vERBfHVS",
        "outputId": "b35012a1-ca3d-4c6d-9245-3758996267b8"
      },
      "execution_count": null,
      "outputs": [
        {
          "output_type": "stream",
          "name": "stdout",
          "text": [
            "Mounted at /content/drive\n"
          ]
        }
      ]
    },
    {
      "cell_type": "code",
      "source": [
        "!mkdir \"/content/camembertFquad\""
      ],
      "metadata": {
        "id": "zOxaQ7n3C7im"
      },
      "execution_count": null,
      "outputs": []
    },
    {
      "cell_type": "code",
      "source": [
        "!unzip \"/content/drive/MyDrive/download-form-fquad1.0.zip\" -d \"/content/fquad/\""
      ],
      "metadata": {
        "colab": {
          "base_uri": "https://localhost:8080/"
        },
        "id": "Q8A3gVIleQJp",
        "outputId": "9905a24d-a61a-4c29-8787-a2060a8f8d9f"
      },
      "execution_count": null,
      "outputs": [
        {
          "output_type": "stream",
          "name": "stdout",
          "text": [
            "Archive:  /content/drive/MyDrive/download-form-fquad1.0.zip\n",
            "  inflating: /content/fquad/train.json  \n",
            "  inflating: /content/fquad/__MACOSX/._train.json  \n",
            "  inflating: /content/fquad/valid.json  \n",
            "  inflating: /content/fquad/__MACOSX/._valid.json  \n"
          ]
        }
      ]
    },
    {
      "cell_type": "code",
      "source": [
        "class Config:\n",
        "  DEVICE = torch.device(\"cuda\" if torch.cuda.is_available() else \"cpu\")\n",
        "  MAX_SEQ_LENGTH = 384\n",
        "  BATCH_SIZE = 2\n",
        "  EPOCHS = 7"
      ],
      "metadata": {
        "id": "KzJDKUrhDsMm"
      },
      "execution_count": null,
      "outputs": []
    },
    {
      "cell_type": "code",
      "source": [
        "def read_squad(path):\n",
        "    with open(path, 'rb') as f:\n",
        "        squad_dict = json.load(f)\n",
        "\n",
        "    # initialize lists for contexts, questions, and answers\n",
        "    contexts = []\n",
        "    questions = []\n",
        "    answers = []\n",
        "    # iterate through all data in squad data\n",
        "    for group in squad_dict['data']:\n",
        "        for passage in group['paragraphs']:\n",
        "            context = passage['context']\n",
        "            for qa in passage['qas']:\n",
        "                question = qa['question']\n",
        "                if 'plausible_answers' in qa.keys():\n",
        "                    access = 'plausible_answers'\n",
        "                else:\n",
        "                    access = 'answers'\n",
        "                for answer in qa['answers']:\n",
        "                    # append data to lists\n",
        "                    contexts.append(context)\n",
        "                    questions.append(question)\n",
        "                    answers.append(answer)\n",
        "    # return formatted data lists\n",
        "    return contexts, questions, answers"
      ],
      "metadata": {
        "id": "6OzG0VN1ftMr"
      },
      "execution_count": null,
      "outputs": []
    },
    {
      "cell_type": "code",
      "source": [
        "\n",
        "train_contexts, train_questions, train_answers = read_squad('/content/fquad/train.json')\n",
        "val_contexts, val_questions, val_answers = read_squad('/content/fquad/valid.json')"
      ],
      "metadata": {
        "id": "hl2IRG-if6cA"
      },
      "execution_count": null,
      "outputs": []
    },
    {
      "cell_type": "code",
      "source": [
        "def add_end_idx(answers, contexts):\n",
        "    # loop through each answer-context pair\n",
        "    for answer, context in zip(answers, contexts):\n",
        "        # gold_text refers to the answer we are expecting to find in context\n",
        "        gold_text = answer['text']\n",
        "        # we already know the start index\n",
        "        start_idx = answer['answer_start']\n",
        "        # and ideally this would be the end index...\n",
        "        end_idx = start_idx + len(gold_text)\n",
        "\n",
        "        # ...however, sometimes squad answers are off by a character or two\n",
        "        if context[start_idx:end_idx] == gold_text:\n",
        "            # if the answer is not off :)\n",
        "            answer['answer_end'] = end_idx\n",
        "        else:\n",
        "            for n in [1, 2]:\n",
        "                if context[start_idx-n:end_idx-n] == gold_text:\n",
        "                    # this means the answer is off by 'n' tokens\n",
        "                    answer['answer_start'] = start_idx - n\n",
        "                    answer['answer_end'] = end_idx - n"
      ],
      "metadata": {
        "id": "L0VAcj-tgJoO"
      },
      "execution_count": null,
      "outputs": []
    },
    {
      "cell_type": "code",
      "source": [
        "add_end_idx(train_answers, train_contexts)\n",
        "add_end_idx(val_answers, val_contexts)"
      ],
      "metadata": {
        "id": "M1emmrZjgO5K"
      },
      "execution_count": null,
      "outputs": []
    },
    {
      "cell_type": "code",
      "source": [
        "train_answers[855]['answer_end']=429\n",
        "train_answers[854]['answer_end']=339"
      ],
      "metadata": {
        "id": "plqipKd7IKxN"
      },
      "execution_count": null,
      "outputs": []
    },
    {
      "cell_type": "markdown",
      "source": [
        "Encode"
      ],
      "metadata": {
        "id": "GjT8PjVJgeNb"
      }
    },
    {
      "cell_type": "code",
      "source": [
        "tokenizer = CamembertTokenizerFast.from_pretrained('camembert-base')\n",
        "\n",
        "train_encodings = tokenizer(train_contexts, train_questions, truncation=True, padding=True)\n",
        "val_encodings = tokenizer(val_contexts, val_questions, truncation=True, padding=True)"
      ],
      "metadata": {
        "colab": {
          "base_uri": "https://localhost:8080/",
          "height": 113,
          "referenced_widgets": [
            "1d6269f35ca4477697888609eb8276aa",
            "489160b3d70540729a91ad230a1c3339",
            "8e5ea57535484e84bc5f8979dee0c8b2",
            "d7adb373b4e34232a2d6c736c6c5c8be",
            "50f41898873c40348792cc10f2cedd49",
            "aef710f11cfd4f51919b76b54a8130cd",
            "0c8004668f88461d963fc1d24c169b08",
            "f10627e0c20b4ee2bc1a052b41ba561e",
            "6f6bf35cc49745c29492d6b54b25fc3a",
            "eb7d0b5ada1e491ea05714f75f068785",
            "119b5037585447d691c05cc438d10e64",
            "ecd6848a84ee4923abf3d81038d2c1da",
            "0da4395514d24ae58ac5a9bdfe68f772",
            "307a003d1eca4b73878c43a6736b4513",
            "3922675681fb47e4b62384f3075f3667",
            "abbff6706a1b46d2bc4eb123912adb7a",
            "7f4038e31812429c8b84fb36af3f1351",
            "f6ec4bd217c84a3c96b9f37995539ed7",
            "b160cf3c7281484f8d849e1efdf12e99",
            "a6e5d77ebe8f4f0590acb66f4a2898a5",
            "12a0946f2f7f4745a7d9cb2282177c38",
            "b14a0ed5d08740829b81c568664d7118",
            "301477b027ee46d9bcc2b381ef145e90",
            "97247b20ce14468e889268617e9daba1",
            "2594fa69286c446f9cac62fce3b63e9c",
            "97ed017be7974493a6f2fbdaad0b3021",
            "d59cf0300f5240d5b7e289b0f16ff9fe",
            "fdb03b6c30a6433fbbf73b5f373e9caa",
            "2352bad80e6d442ab13a7c13cf27720c",
            "6ed074052c914f1b89be849c14f59255",
            "558d219a8abc47f18d00e27755a6c1e3",
            "e112be4600434484ae97997d4e3df8fb",
            "1d068b3c4fdf4d8fa37cdb0856ac5bab"
          ]
        },
        "id": "1AmVqLOWgO0f",
        "outputId": "ecdc49aa-600f-4e00-8c6f-3ef936e951cb"
      },
      "execution_count": null,
      "outputs": [
        {
          "output_type": "display_data",
          "data": {
            "text/plain": [
              "Downloading:   0%|          | 0.00/792k [00:00<?, ?B/s]"
            ],
            "application/vnd.jupyter.widget-view+json": {
              "version_major": 2,
              "version_minor": 0,
              "model_id": "1d6269f35ca4477697888609eb8276aa"
            }
          },
          "metadata": {}
        },
        {
          "output_type": "display_data",
          "data": {
            "text/plain": [
              "Downloading:   0%|          | 0.00/1.33M [00:00<?, ?B/s]"
            ],
            "application/vnd.jupyter.widget-view+json": {
              "version_major": 2,
              "version_minor": 0,
              "model_id": "ecd6848a84ee4923abf3d81038d2c1da"
            }
          },
          "metadata": {}
        },
        {
          "output_type": "display_data",
          "data": {
            "text/plain": [
              "Downloading:   0%|          | 0.00/508 [00:00<?, ?B/s]"
            ],
            "application/vnd.jupyter.widget-view+json": {
              "version_major": 2,
              "version_minor": 0,
              "model_id": "301477b027ee46d9bcc2b381ef145e90"
            }
          },
          "metadata": {}
        }
      ]
    },
    {
      "cell_type": "code",
      "source": [
        "def add_token_positions(encodings, answers):\n",
        "    # initialize lists to contain the token indices of answer start/end\n",
        "    start_positions = []\n",
        "    end_positions = []\n",
        "    for i in range(len(answers)):\n",
        "        # append start/end token position using char_to_token method\n",
        "        start_positions.append(encodings.char_to_token(i, answers[i]['answer_start']))\n",
        "        end_positions.append(encodings.char_to_token(i, answers[i]['answer_end']))\n",
        "\n",
        "        # if start position is None, the answer passage has been truncated\n",
        "        if start_positions[-1] is None:\n",
        "            start_positions[-1] = tokenizer.model_max_length\n",
        "        # end position cannot be found, char_to_token found space, so shift one token forward\n",
        "        go_back = 1\n",
        "        while end_positions[-1] is None:\n",
        "            end_positions[-1] = encodings.char_to_token(i, answers[i]['answer_end']-go_back)\n",
        "            go_back +=1\n",
        "    # update our encodings object with the new token-based start/end positions\n",
        "    encodings.update({'start_positions': start_positions, 'end_positions': end_positions})\n",
        "\n"
      ],
      "metadata": {
        "id": "1wO6hlE5gwS3"
      },
      "execution_count": null,
      "outputs": []
    },
    {
      "cell_type": "code",
      "source": [
        "# apply function to our data\n",
        "add_token_positions(val_encodings, val_answers)\n",
        "add_token_positions(train_encodings, train_answers)"
      ],
      "metadata": {
        "id": "o5vvUiShD4tn"
      },
      "execution_count": null,
      "outputs": []
    },
    {
      "cell_type": "markdown",
      "source": [
        "Model : Camembert "
      ],
      "metadata": {
        "id": "DupRLZI6o9JR"
      }
    },
    {
      "cell_type": "code",
      "source": [
        "\n",
        "class FquadDataset(torch.utils.data.Dataset):\n",
        "    def __init__(self, encodings):\n",
        "        self.encodings = encodings\n",
        "\n",
        "    def __getitem__(self, idx):\n",
        "        return {key: torch.tensor(val[idx]) for key, val in self.encodings.items()}\n",
        "\n",
        "    def __len__(self):\n",
        "        return len(self.encodings.input_ids)\n",
        "\n",
        "train_dataset = FquadDataset(train_encodings)\n",
        "val_dataset = FquadDataset(val_encodings)"
      ],
      "metadata": {
        "id": "rJV-jfyEozgB"
      },
      "execution_count": null,
      "outputs": []
    },
    {
      "cell_type": "code",
      "source": [
        "import torch\n",
        "from torch import nn\n",
        "from torch.nn import CrossEntropyLoss\n",
        "\n",
        "import transformers\n",
        " \n",
        "class CamemBertForQuestionAnswering(nn.Module):\n",
        "    def __init__(self):\n",
        "        super(CamemBertForQuestionAnswering, self).__init__()\n",
        "        self.camembert = CamembertModel.from_pretrained('camembert-base', return_dict=False, add_pooling_layer=False)\n",
        "        self.qa_outputs = nn.Linear(768, 2)\n",
        "\n",
        "    def forward(self, input_ids, token_type_ids=None, attention_mask=None, start_positions=None, end_positions=None):\n",
        "        outputs = self.camembert(input_ids, attention_mask=attention_mask, token_type_ids=token_type_ids)\n",
        "        sequence_output = outputs[0]\n",
        "        logits = self.qa_outputs(sequence_output)\n",
        "\n",
        "        start_logits, end_logits = logits.split(1, dim=-1)\n",
        "        start_logits = start_logits.squeeze(-1)\n",
        "        end_logits = end_logits.squeeze(-1)\n",
        "\n",
        "        if start_positions is not None and end_positions is not None:\n",
        "            # If we are on multi-GPU, split add a dimension\n",
        "            if len(start_positions.size()) > 1:\n",
        "                start_positions = start_positions.squeeze(-1)\n",
        "            if len(end_positions.size()) > 1:\n",
        "                end_positions = end_positions.squeeze(-1)\n",
        "            # sometimes the start/end positions are outside our model inputs, we ignore these terms\n",
        "            ignored_index = start_logits.size(1)\n",
        "            start_positions.clamp_(0, ignored_index)\n",
        "            end_positions.clamp_(0, ignored_index)\n",
        "\n",
        "            loss_fct = nn.CrossEntropyLoss(ignore_index=ignored_index)\n",
        "            start_loss = loss_fct(start_logits, start_positions)\n",
        "            end_loss = loss_fct(end_logits, end_positions)\n",
        "            total_loss = (start_loss + end_loss) / 2\n",
        "\n",
        "            output = (start_logits, end_logits) + outputs[2:]\n",
        "            return ((total_loss,) + output) if total_loss is not None else output\n",
        "        else:\n",
        "            return start_logits, end_logits"
      ],
      "metadata": {
        "id": "B6gNAVqPpINb"
      },
      "execution_count": null,
      "outputs": []
    },
    {
      "cell_type": "code",
      "source": [
        "# Model\n",
        "model = CamemBertForQuestionAnswering().to(device=Config.DEVICE)"
      ],
      "metadata": {
        "colab": {
          "base_uri": "https://localhost:8080/",
          "height": 121,
          "referenced_widgets": [
            "f6d932793bcb47d69e45c05fdd006d76",
            "3d2693b1a3224666992e3cc65b038223",
            "6108b8f5842244139a236046133b3442",
            "38aec1cc0de34c34a0bb8b100991dc02",
            "8dc92ac835794b199af3f6c24b38e931",
            "d62b21495cbb400d84805e200fa037f0",
            "e0812d38ca644679b5163231b2b4e9b5",
            "670da6de3294413989200d93d7bdb67b",
            "436075a5b2094543bf25dfab47a4e627",
            "977866469aa9400bbdd65d06a890cc07",
            "5e700d32f5c24578ab0ea691412490e2"
          ]
        },
        "id": "FjlJAnUcpvYr",
        "outputId": "24f593a4-32eb-42f7-f94c-95e1aff8bfe6"
      },
      "execution_count": null,
      "outputs": [
        {
          "output_type": "display_data",
          "data": {
            "text/plain": [
              "Downloading:   0%|          | 0.00/424M [00:00<?, ?B/s]"
            ],
            "application/vnd.jupyter.widget-view+json": {
              "version_major": 2,
              "version_minor": 0,
              "model_id": "f6d932793bcb47d69e45c05fdd006d76"
            }
          },
          "metadata": {}
        },
        {
          "output_type": "stream",
          "name": "stderr",
          "text": [
            "Some weights of the model checkpoint at camembert-base were not used when initializing CamembertModel: ['lm_head.bias', 'lm_head.layer_norm.weight', 'roberta.pooler.dense.bias', 'lm_head.dense.bias', 'lm_head.decoder.weight', 'lm_head.layer_norm.bias', 'lm_head.dense.weight', 'roberta.pooler.dense.weight']\n",
            "- This IS expected if you are initializing CamembertModel from the checkpoint of a model trained on another task or with another architecture (e.g. initializing a BertForSequenceClassification model from a BertForPreTraining model).\n",
            "- This IS NOT expected if you are initializing CamembertModel from the checkpoint of a model that you expect to be exactly identical (initializing a BertForSequenceClassification model from a BertForSequenceClassification model).\n"
          ]
        }
      ]
    },
    {
      "cell_type": "code",
      "source": [
        "def normalize_text(text):\n",
        "  text = text.lower()\n",
        "  text = text.replace(\"'\",\" \")\n",
        "  text = \"\".join(ch for ch in text if ch not in set(string.punctuation))\n",
        "  regex = re.compile(r\"\\b(un|une|le|la|l|de|des|par|avec)\\b\", re.UNICODE)\n",
        "  text = re.sub(regex, \" \", text)\n",
        "  #text = \" \".join(text.split())\n",
        "  return text.split()"
      ],
      "metadata": {
        "id": "-NYuPLd-xiC8"
      },
      "execution_count": null,
      "outputs": []
    },
    {
      "cell_type": "code",
      "source": [
        "def compute_f1(prediction, truth):\n",
        "    \n",
        "    pred_tokens = normalize_text(prediction)\n",
        "    truth_tokens = normalize_text(truth)\n",
        "    \n",
        "    # if either the prediction or the truth is no-answer then f1 = 1 if they agree, 0 otherwise\n",
        "    if len(pred_tokens) == 0 or len(truth_tokens) == 0:\n",
        "        return int(pred_tokens == truth_tokens)\n",
        "    \n",
        "    common_tokens = set(pred_tokens) & set(truth_tokens)\n",
        "    \n",
        "    # if there are no common tokens then f1 = 0\n",
        "    if len(common_tokens) == 0:\n",
        "        return 0\n",
        "    \n",
        "    prec = len(common_tokens) / len(pred_tokens)\n",
        "    rec = len(common_tokens) / len(truth_tokens)\n",
        "    \n",
        "    return 2 * (prec * rec) / (prec + rec)"
      ],
      "metadata": {
        "id": "cye9YbTujlWZ"
      },
      "execution_count": null,
      "outputs": []
    },
    {
      "cell_type": "code",
      "source": [
        "# setup GPU/CPU\n",
        "device = torch.device('cuda') if torch.cuda.is_available() else torch.device('cpu')\n",
        "# move model over to detected device\n",
        "#model.to(device)\n",
        "# activate training mode of model\n",
        "model.train()\n",
        "# initialize adam optimizer with weight decay (reduces chance of overfitting)\n",
        "optim = AdamW(model.parameters(), lr=3e-5)\n",
        "\n",
        "# initialize data loader for training data\n",
        "train_loader = DataLoader(train_dataset, batch_size=Config.BATCH_SIZE, shuffle=True)\n",
        "#val_sampler = SequentialSampler(val_dataset)\n",
        "val_loader = DataLoader(val_dataset, batch_size=Config.BATCH_SIZE)\n",
        "\n",
        "for epoch in range(1, 4):\n",
        "\n",
        "# ============================================ Training ==========================================================\n",
        "\n",
        "    # set model to train mode\n",
        "    model.train()\n",
        "    # setup loop (we use tqdm for the progress bar)\n",
        "    loop = tqdm(train_loader, leave=True)\n",
        "    for batch in loop:\n",
        "        # initialize calculated gradients (from prev step)\n",
        "        optim.zero_grad()\n",
        "        # pull all the tensor batches required for training\n",
        "        input_ids = batch['input_ids'].to(device)\n",
        "        attention_mask = batch['attention_mask'].to(device)\n",
        "        start_positions = batch['start_positions'].to(device)\n",
        "        end_positions = batch['end_positions'].to(device)\n",
        "        # train model on batch and return outputs (incl. loss)\n",
        "        outputs = model(input_ids, attention_mask=attention_mask,\n",
        "                        start_positions=start_positions,\n",
        "                        end_positions=end_positions)\n",
        "        # extract loss\n",
        "        loss = outputs[0]\n",
        "        # calculate loss for every parameter that needs grad update\n",
        "        loss.backward()\n",
        "        # update parameters\n",
        "        optim.step()\n",
        "        # print relevant info to progress bar\n",
        "        loop.set_description(f'Epoch {epoch}')\n",
        "        loop.set_postfix(loss=loss.item())\n",
        "    torch.save(model.state_dict(), \"./camembertFquad/weights_\" + str(epoch) + \".pth\")\n",
        "\n",
        "# ============================================ VALIDATION ==========================================================\n",
        "\n",
        "    # switch model out of training mode\n",
        "    model.eval()\n",
        "\n",
        "    #answers = val_answers\n",
        "    #context = val_contexts\n",
        "    currentIdx = 0\n",
        "\n",
        "    acc = []\n",
        "    f1_scores=[]\n",
        "\n",
        "    # initialize loop for progress bar\n",
        "    loop = tqdm(val_loader)\n",
        "    # loop through batches\n",
        "    for batch in loop:\n",
        "        # we don't need to calculate gradients as we're not training\n",
        "        with torch.no_grad():\n",
        "            # pull batched items from loader\n",
        "            input_ids = batch['input_ids'].to(device)\n",
        "            attention_mask = batch['attention_mask'].to(device)\n",
        "            start_true = batch['start_positions'].to(device).detach().cpu().numpy()\n",
        "            end_true = batch['end_positions'].to(device).detach().cpu().numpy()\n",
        "            # make predictions\n",
        "            outputs = model(input_ids, attention_mask=attention_mask)\n",
        "            # pull preds out\n",
        "            start_pred = torch.argmax(outputs[0], dim=1).detach().cpu().numpy()\n",
        "            end_pred = torch.argmax(outputs[1], dim=1).detach().cpu().numpy()\n",
        "\n",
        "            for idx, (start, end) in enumerate(zip(start_pred, end_pred)):\n",
        "              #context = val_contexts[currentIdx]\n",
        "\n",
        "              pred_answer = tokenizer.decode(list(val_encodings['input_ids'][currentIdx])[start:end+1])\n",
        "              #pred_answer = context[start:end]\n",
        "              true_answer = tokenizer.decode(list(val_encodings['input_ids'][currentIdx])[start_true[idx]:end_true[idx]+1])\n",
        "\n",
        "              currentIdx += 1\n",
        "              f1_score = compute_f1(pred_answer, true_answer)\n",
        "              f1_scores.append(f1_score)\n",
        "    #print(f1_scores)\n",
        "    f1 = mean(f1_scores)*100\n",
        "   \n",
        "    print(f\"\\nEpoch={epoch},   F1-score = {f1:.4f}\")\n",
        "\n",
        "\n",
        "            # calculate accuracy for both and append to accuracy list\n",
        "            #acc.append(((start_pred == start_true).sum()/len(start_pred)).item())\n",
        "            #acc.append(((end_pred == end_true).sum()/len(end_pred)).item())\n",
        "    # calculate average accuracy in total\n",
        "    #acc = sum(acc)/len(acc)'''\n",
        "    #print(f\"\\nEpoch={epoch}, exact match score={acc:.2f}\")"
      ],
      "metadata": {
        "colab": {
          "base_uri": "https://localhost:8080/"
        },
        "id": "ofvRSJUHa0BF",
        "outputId": "a274beff-1ae9-49fb-e554-fd8418193105"
      },
      "execution_count": null,
      "outputs": [
        {
          "output_type": "stream",
          "name": "stderr",
          "text": [
            "/usr/local/lib/python3.7/dist-packages/transformers/optimization.py:310: FutureWarning: This implementation of AdamW is deprecated and will be removed in a future version. Use the PyTorch implementation torch.optim.AdamW instead, or set `no_deprecation_warning=True` to disable this warning\n",
            "  FutureWarning,\n",
            "Epoch 1: 100%|██████████| 10367/10367 [24:00<00:00,  7.20it/s, loss=4.31]\n",
            "100%|██████████| 1594/1594 [01:02<00:00, 25.43it/s]\n"
          ]
        },
        {
          "output_type": "stream",
          "name": "stdout",
          "text": [
            "\n",
            "Epoch=1,   F1-score = 77.1236\n"
          ]
        },
        {
          "output_type": "stream",
          "name": "stderr",
          "text": [
            "Epoch 2: 100%|██████████| 10367/10367 [23:58<00:00,  7.21it/s, loss=1.08]\n",
            "100%|██████████| 1594/1594 [01:02<00:00, 25.37it/s]\n"
          ]
        },
        {
          "output_type": "stream",
          "name": "stdout",
          "text": [
            "\n",
            "Epoch=2,   F1-score = 77.6574\n"
          ]
        },
        {
          "output_type": "stream",
          "name": "stderr",
          "text": [
            "Epoch 3: 100%|██████████| 10367/10367 [23:58<00:00,  7.20it/s, loss=0.339]\n",
            "100%|██████████| 1594/1594 [01:02<00:00, 25.30it/s]"
          ]
        },
        {
          "output_type": "stream",
          "name": "stdout",
          "text": [
            "\n",
            "Epoch=3,   F1-score = 77.3087\n"
          ]
        },
        {
          "output_type": "stream",
          "name": "stderr",
          "text": [
            "\n"
          ]
        }
      ]
    },
    {
      "cell_type": "code",
      "source": [
        " out = model(val_dataset[1]['input_ids'].to(device).unsqueeze(0), attention_mask=val_dataset[1]['attention_mask'].to(device).unsqueeze(0))\n",
        " start = torch.argmax(out[0], dim=1).detach().cpu().numpy()\n",
        " end = torch.argmax(out[1], dim=1).detach().cpu().numpy()\n",
        " start , end"
      ],
      "metadata": {
        "colab": {
          "base_uri": "https://localhost:8080/"
        },
        "id": "G8FeaHvykk8J",
        "outputId": "a77e1b58-79de-4c4b-8806-b6f39efe0e0f"
      },
      "execution_count": null,
      "outputs": [
        {
          "output_type": "execute_result",
          "data": {
            "text/plain": [
              "(array([10]), array([11]))"
            ]
          },
          "metadata": {},
          "execution_count": 23
        }
      ]
    },
    {
      "cell_type": "code",
      "source": [
        "text = tokenizer.decode(list(val_encodings['input_ids'][1])[10:12])\n",
        "print(text)"
      ],
      "metadata": {
        "colab": {
          "base_uri": "https://localhost:8080/"
        },
        "id": "BevBZ83rqfWi",
        "outputId": "66e1226b-7691-42ad-d055-fe7555863da5"
      },
      "execution_count": null,
      "outputs": [
        {
          "output_type": "stream",
          "name": "stdout",
          "text": [
            "documents contemporains\n"
          ]
        }
      ]
    },
    {
      "cell_type": "markdown",
      "source": [
        "On réduit le taux d'apprentissage lr=3e-6"
      ],
      "metadata": {
        "id": "klXyZ5sfK4v1"
      }
    },
    {
      "cell_type": "code",
      "source": [
        "# New learning rate\n",
        "optim = AdamW(model.parameters(), lr=3e-6)\n",
        "\n",
        "for epoch in range(1, 4):\n",
        "\n",
        "# ============================================ Training ==========================================================\n",
        "\n",
        "    # set model to train mode\n",
        "    model.train()\n",
        "    # setup loop (we use tqdm for the progress bar)\n",
        "    loop = tqdm(train_loader, leave=True)\n",
        "    for batch in loop:\n",
        "        # initialize calculated gradients (from prev step)\n",
        "        optim.zero_grad()\n",
        "        # pull all the tensor batches required for training\n",
        "        input_ids = batch['input_ids'].to(device)\n",
        "        attention_mask = batch['attention_mask'].to(device)\n",
        "        start_positions = batch['start_positions'].to(device)\n",
        "        end_positions = batch['end_positions'].to(device)\n",
        "        # train model on batch and return outputs (incl. loss)\n",
        "        outputs = model(input_ids, attention_mask=attention_mask,\n",
        "                        start_positions=start_positions,\n",
        "                        end_positions=end_positions)\n",
        "        # extract loss\n",
        "        loss = outputs[0]\n",
        "        # calculate loss for every parameter that needs grad update\n",
        "        loss.backward()\n",
        "        # update parameters\n",
        "        optim.step()\n",
        "        # print relevant info to progress bar\n",
        "        loop.set_description(f'Epoch {epoch}')\n",
        "        loop.set_postfix(loss=loss.item())\n",
        "    torch.save(model.state_dict(), \"./camembertFquad/weights_\" + str(epoch) + \".pth\")\n",
        "\n",
        "# ============================================ VALIDATION ==========================================================\n",
        "\n",
        "    # switch model out of training mode\n",
        "    model.eval()\n",
        "\n",
        "    #answers = val_answers\n",
        "    #context = val_contexts\n",
        "    currentIdx = 0\n",
        "\n",
        "    acc = []\n",
        "    f1_scores=[]\n",
        "\n",
        "    # initialize loop for progress bar\n",
        "    loop = tqdm(val_loader)\n",
        "    # loop through batches\n",
        "    for batch in loop:\n",
        "        # we don't need to calculate gradients as we're not training\n",
        "        with torch.no_grad():\n",
        "            # pull batched items from loader\n",
        "            input_ids = batch['input_ids'].to(device)\n",
        "            attention_mask = batch['attention_mask'].to(device)\n",
        "            start_true = batch['start_positions'].to(device).detach().cpu().numpy()\n",
        "            end_true = batch['end_positions'].to(device).detach().cpu().numpy()\n",
        "            # make predictions\n",
        "            outputs = model(input_ids, attention_mask=attention_mask)\n",
        "            # pull preds out\n",
        "            start_pred = torch.argmax(outputs[0], dim=1).detach().cpu().numpy()\n",
        "            end_pred = torch.argmax(outputs[1], dim=1).detach().cpu().numpy()\n",
        "\n",
        "            for idx, (start, end) in enumerate(zip(start_pred, end_pred)):\n",
        "              #context = val_contexts[currentIdx]\n",
        "\n",
        "              pred_answer = tokenizer.decode(list(val_encodings['input_ids'][currentIdx])[start:end+1])\n",
        "              #pred_answer = context[start:end]\n",
        "              true_answer = tokenizer.decode(list(val_encodings['input_ids'][currentIdx])[start_true[idx]:end_true[idx]+1])\n",
        "\n",
        "              currentIdx += 1\n",
        "              f1_score = compute_f1(pred_answer, true_answer)\n",
        "              f1_scores.append(f1_score)\n",
        "    #print(f1_scores)\n",
        "    f1 = mean(f1_scores)*100\n",
        "   \n",
        "    print(f\"\\nEpoch={epoch},   F1-score = {f1:.4f}\")"
      ],
      "metadata": {
        "colab": {
          "base_uri": "https://localhost:8080/"
        },
        "id": "rVIhisjUKtuv",
        "outputId": "d0886ed0-cab5-4dd5-ace2-1508388e3add"
      },
      "execution_count": null,
      "outputs": [
        {
          "output_type": "stream",
          "name": "stderr",
          "text": [
            "/usr/local/lib/python3.7/dist-packages/transformers/optimization.py:310: FutureWarning: This implementation of AdamW is deprecated and will be removed in a future version. Use the PyTorch implementation torch.optim.AdamW instead, or set `no_deprecation_warning=True` to disable this warning\n",
            "  FutureWarning,\n",
            "Epoch 1: 100%|██████████| 10367/10367 [23:58<00:00,  7.21it/s, loss=0.206]\n",
            "100%|██████████| 1594/1594 [01:02<00:00, 25.39it/s]\n"
          ]
        },
        {
          "output_type": "stream",
          "name": "stdout",
          "text": [
            "\n",
            "Epoch=1,   F1-score = 79.3109\n"
          ]
        },
        {
          "output_type": "stream",
          "name": "stderr",
          "text": [
            "Epoch 2: 100%|██████████| 10367/10367 [23:59<00:00,  7.20it/s, loss=0.514]\n",
            "100%|██████████| 1594/1594 [01:03<00:00, 25.22it/s]\n"
          ]
        },
        {
          "output_type": "stream",
          "name": "stdout",
          "text": [
            "\n",
            "Epoch=2,   F1-score = 79.1608\n"
          ]
        },
        {
          "output_type": "stream",
          "name": "stderr",
          "text": [
            "Epoch 3: 100%|██████████| 10367/10367 [24:00<00:00,  7.20it/s, loss=0.0717]\n",
            "100%|██████████| 1594/1594 [01:03<00:00, 25.23it/s]"
          ]
        },
        {
          "output_type": "stream",
          "name": "stdout",
          "text": [
            "\n",
            "Epoch=3,   F1-score = 79.3730\n"
          ]
        },
        {
          "output_type": "stream",
          "name": "stderr",
          "text": [
            "\n"
          ]
        }
      ]
    },
    {
      "cell_type": "markdown",
      "source": [
        "# Exemple"
      ],
      "metadata": {
        "id": "3zhfUWRZrhxH"
      }
    },
    {
      "cell_type": "code",
      "source": [
        "passage = [\"L'école a été fondée en 1975. Son premier directeur fut Ahmed Fassi Fihri. En l'année universitaire 2013-2014, l’École est à sa 37e promotion ; elle a délivré plus de 2 600 diplômes d’informatiste (Bac+4) et 300 diplômes d’informatiste spécialisé (deux ans de formation, ouverte aux informatistes, licenciés et équivalents ayant trois ans d’expérience minimum). La réforme de 2011 permet à l’ESI de varier son offre de formation et d’intégrer le statut des grandes écoles accessibles après classes préparatoires. Cette réforme qui entre en vigueur à partir de septembre 2012, est organisée autour de quatre cycles de formation donnant accès à quatre diplômes nationaux : ingénieur(classes prépas + 3 ans), master en mathématiques (4 semestres), masters spécialisés (4 semestres) et doctorat en sciences de l’information (3 ans)1[réf. souhaitée]. L'accès en première année du cycle ingénieur est ouvert aux candidats lauréats des classes préparatoires scientifiques et techniques ayant réussi le concours national commun (CNC) d’admission aux grandes écoles d’ingénieurs au Maroc ou sur concours aux titulaires d’une licence ou d’un DEUG en sciences mathématiques et informatique (SMI)\"]\n",
        "ques = [\"quels sont les cycles de formations dans l'ecole des science de l'information?\"]"
      ],
      "metadata": {
        "id": "zLBv-y6p29Qa"
      },
      "execution_count": null,
      "outputs": []
    },
    {
      "cell_type": "code",
      "source": [
        "device = torch.device('cuda') if torch.cuda.is_available() else torch.device('cpu')\n",
        "encod = tokenizer(passage, ques, truncation=True, padding=True)\n",
        "input = torch.tensor(encod['input_ids']).to(device)\n",
        "msk = torch.tensor(encod['attention_mask']).to(device)\n",
        "output = model(input_ids = input, attention_mask=msk)\n",
        "start_pred = torch.argmax(output[0]).detach().cpu().numpy()\n",
        "end_pred = torch.argmax(output[1]).detach().cpu().numpy()\n",
        "print('Question : ', ques[0])\n",
        "print(\"\")\n",
        "print(\"Réponse : \", tokenizer.decode(list(encod['input_ids'][0])[start_pred:end_pred+1]))"
      ],
      "metadata": {
        "id": "bGgGGVPWjvKH",
        "colab": {
          "base_uri": "https://localhost:8080/"
        },
        "outputId": "e4129553-c9a1-472d-a409-8653473f583b"
      },
      "execution_count": null,
      "outputs": [
        {
          "output_type": "stream",
          "name": "stdout",
          "text": [
            "Question :  quels sont les cycles de formations dans l'ecole des science de l'information?\n",
            "\n",
            "Réponse :  ingénieur(classes prépas + 3 ans), master en mathématiques (4 semestres), masters spécialisés (4 semestres) et doctorat en sciences de l’information (3 ans)\n"
          ]
        }
      ]
    },
    {
      "cell_type": "markdown",
      "source": [
        "### Inférence"
      ],
      "metadata": {
        "id": "btCape01hwxV"
      }
    },
    {
      "cell_type": "code",
      "source": [
        "passage = [\"Le réchauffement planétaire atteindra les 1,5 °C entre 2030 et 2052 si la température continue d’augmenter à ce rythme. Le RS15 (rapport spécial sur le réchauffement climatique de 1,5 °C) résume, d’une part, les recherches existantes sur l’impact qu’un réchauffement de 1,5 °C aurait sur la planète et, d’autre part, les mesures nécessaires pour limiter ce réchauffement planétaire. Même en supposant la mise en œuvre intégrale des mesures déterminées au niveau national soumises par les pays dans le cadre de l’Accord de Paris, les émissions nettes augmenteraient par rapport à 2010, entraînant un réchauffement d’environ 3 °C d’ici 2100, et davantage par la suite. En revanche, pour limiter le réchauffement au-dessous ou proche de 1,5 °C, il faudrait diminuer les émissions nettes d’environ 45 % d’ici 2030 et atteindre 0 % en 2050. Même pour limiter le réchauffement climatique à moins de 2 °C, les émissions de CO2 devraient diminuer de 25 % d’ici 2030 et de 100 % d’ici 2075. Les scénarios qui permettraient une telle réduction d’ici 2050 ne permettraient de produire qu’environ 8 % de l’électricité mondiale par le gaz et 0 à 2 % par le charbon (à compenser par le captage et le stockage du dioxyde de carbone). Dans ces filières, les énergies renouvelables devraient fournir 70 à 85 % de l’électricité en 2050 et la part de l’énergie nucléaire est modélisée pour augmenter. Il suppose également que d’autres mesures soient prises simultanément : par exemple, les émissions autres que le CO2 (comme le méthane, le noir de carbone, le protoxyde d’azote) doivent être réduites de manière similaire, la demande énergétique reste inchangée, voire réduite de 30 % ou compensée par des méthodes sans précédentes d’élimination du dioxyde de carbone à mettre au point, tandis que de nouvelles politiques et recherches permettent d’améliorer l’efficacité de l’agriculture et de l’industrie.\"]\n",
        "\n",
        "questions = [\"Quand risquons nous d’atteindre un réchauffement à 1.5 degrés?\", \"Quels sont les gaz à effet de serre autres que le CO2?\",\n",
        "               \"Quelles recherches sont résumées dans ce rapport ?\", \"Comment améliorer l’efficacité de l’industrie ?\",\n",
        "               \"Quelles sont les conséquences d’un scénario limitant le réchauffement à 1,5 degrés ?\", \"Quelle part d’énergie doit être fournie par le renouvelable pour respecter l’accord ?\",\n",
        "               \"Quelle source d’énergie sera limitée à une production de 8 % si les émissions maximales sont respectées ?\"]\n",
        "\n",
        "True_reponse = ['entre 2030 et 2052', \"méthane, le noir de carbone, le protoxyde d’azote)\", \n",
        "                \"les recherches existantes sur l’impact qu’un réchauffement de 1,5 °C aurait sur la planète\",\n",
        "                \"de nouvelles politiques et recherches\",\"diminuer les émissions nettes d’environ 45 % d’ici 2030 et atteindre 0 % en 2050.\",\n",
        "                \"70 à 85 %\", \"gaz\"]"
      ],
      "metadata": {
        "id": "LBKzW0I2nqUt"
      },
      "execution_count": null,
      "outputs": []
    },
    {
      "cell_type": "code",
      "source": [
        "device = torch.device('cuda') if torch.cuda.is_available() else torch.device('cpu')"
      ],
      "metadata": {
        "id": "hk2S3dcNnqVI"
      },
      "execution_count": null,
      "outputs": []
    },
    {
      "cell_type": "code",
      "source": [
        "for ques in range(len(questions)):\n",
        "  encod = tokenizer(passage, [questions[ques]], truncation=True, padding=True)\n",
        "  input = torch.tensor(encod['input_ids']).to(device)\n",
        "  msk = torch.tensor(encod['attention_mask']).to(device)\n",
        "  output = model(input_ids = input, attention_mask=msk)\n",
        "  start_pred = torch.argmax(output[0]).detach().cpu().numpy()\n",
        "  end_pred = torch.argmax(output[1]).detach().cpu().numpy()\n",
        "  print(\"Question : \"+ questions[ques])\n",
        "  print(\"Réponse : \"+ True_reponse[ques])\n",
        "  print(\"Réponse prédite : \"+ tokenizer.decode(list(encod['input_ids'][0])[start_pred:end_pred+1]))\n",
        "  print(\"====================================================================================\")\n"
      ],
      "metadata": {
        "colab": {
          "base_uri": "https://localhost:8080/"
        },
        "outputId": "1fbb8342-7400-4b71-bc4b-e9471b5ec756",
        "id": "Z4FohEnsnqVI"
      },
      "execution_count": null,
      "outputs": [
        {
          "output_type": "stream",
          "name": "stdout",
          "text": [
            "Question : Quand risquons nous d’atteindre un réchauffement à 1.5 degrés?\n",
            "Réponse : entre 2030 et 2052\n",
            "Réponse prédite : entre 2030 et 2052\n",
            "====================================================================================\n",
            "Question : Quels sont les gaz à effet de serre autres que le CO2?\n",
            "Réponse : méthane, le noir de carbone, le protoxyde d’azote)\n",
            "Réponse prédite : méthane, le noir de carbone, le protoxyde d’azote)\n",
            "====================================================================================\n",
            "Question : Quelles recherches sont résumées dans ce rapport ?\n",
            "Réponse : les recherches existantes sur l’impact qu’un réchauffement de 1,5 °C aurait sur la planète\n",
            "Réponse prédite : recherches existantes sur l’impact qu’un réchauffement de 1,5 °C aurait sur la planète et, d’autre part, les mesures nécessaires pour limiter ce réchauffement planétaire.\n",
            "====================================================================================\n",
            "Question : Comment améliorer l’efficacité de l’industrie ?\n",
            "Réponse : de nouvelles politiques et recherches\n",
            "Réponse prédite : de nouvelles politiques et recherches\n",
            "====================================================================================\n",
            "Question : Quelles sont les conséquences d’un scénario limitant le réchauffement à 1,5 degrés ?\n",
            "Réponse : diminuer les émissions nettes d’environ 45 % d’ici 2030 et atteindre 0 % en 2050.\n",
            "Réponse prédite : diminuer les émissions nettes d’environ 45 % d’ici 2030 et atteindre 0 % en 2050. Même pour limiter le réchauffement climatique à moins de 2 °C, les émissions de CO2 devraient diminuer de 25 % d’ici 2030 et de 100 % d’ici 2075. Les scénarios qui permettraient une telle réduction d’ici 2050 ne permettraient de produire qu’environ 8 % de l’électricité mondiale par le gaz et 0 à 2 % par le charbon\n",
            "====================================================================================\n",
            "Question : Quelle part d’énergie doit être fournie par le renouvelable pour respecter l’accord ?\n",
            "Réponse : 70 à 85 %\n",
            "Réponse prédite : 70 à 85 %\n",
            "====================================================================================\n",
            "Question : Quelle source d’énergie sera limitée à une production de 8 % si les émissions maximales sont respectées ?\n",
            "Réponse : gaz\n",
            "Réponse prédite : gaz\n",
            "====================================================================================\n"
          ]
        }
      ]
    },
    {
      "cell_type": "code",
      "source": [
        ""
      ],
      "metadata": {
        "id": "bo6bUw2-h0jZ"
      },
      "execution_count": null,
      "outputs": []
    }
  ]
}